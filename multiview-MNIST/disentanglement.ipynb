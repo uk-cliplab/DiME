{
 "cells": [
  {
   "cell_type": "code",
   "execution_count": null,
   "id": "76aab737-a0fb-4e01-9e5e-14ad4dd44072",
   "metadata": {
    "papermill": {
     "duration": 2.620742,
     "end_time": "2022-07-15T12:50:44.216287",
     "exception": false,
     "start_time": "2022-07-15T12:50:41.595545",
     "status": "completed"
    },
    "tags": []
   },
   "outputs": [],
   "source": [
    "%load_ext autoreload\n",
    "%autoreload 2\n",
    "\n",
    "import numpy as np\n",
    "from sklearn.preprocessing import StandardScaler\n",
    "import matplotlib.pyplot as plt\n",
    "from IPython import display\n",
    "import torch\n",
    "import torchvision\n",
    "from torchvision import datasets, transforms\n",
    "from torch.utils.data import Dataset, DataLoader\n",
    "import torch.nn as nn\n",
    "import multiprocessing as mp\n",
    "import itertools\n",
    "import time\n",
    "import torchvision.transforms.functional as TF\n",
    "\n",
    "import repitl\n",
    "import repitl.kernel_utils as ku\n",
    "import repitl.matrix_itl as itl\n",
    "import repitl.matrix_itl_approx as approx\n",
    "import repitl.difference_of_entropies as dent\n",
    "\n",
    "import models\n",
    "import utils.visual_utils as vu\n",
    "from utils.data_utils.multiview_dataset_maker import *\n",
    "\n",
    "import utils.training_utils as tu\n",
    "\n",
    "\n",
    "import warnings\n",
    "warnings.filterwarnings(\"ignore\", category=FutureWarning)\n",
    "warnings.filterwarnings(\"ignore\", category=UserWarning)"
   ]
  },
  {
   "cell_type": "markdown",
   "id": "cb979cc7-6df7-49e8-b427-6e9d5419c318",
   "metadata": {
    "papermill": {
     "duration": 0.050146,
     "end_time": "2022-07-15T12:50:44.529154",
     "exception": false,
     "start_time": "2022-07-15T12:50:44.479008",
     "status": "completed"
    },
    "tags": []
   },
   "source": [
    "# Create the multiview dataset"
   ]
  },
  {
   "cell_type": "markdown",
   "id": "74e427ea-d1e5-4d99-ad14-447c01c9338b",
   "metadata": {},
   "source": [
    "Wang, Weiran, et al. \"On deep multi-view representation learning.\" International conference on machine learning. PMLR, 2015.\n",
    "\n",
    "I create the multiview dataset to follow the same criteria as this paper."
   ]
  },
  {
   "cell_type": "markdown",
   "id": "98b2f2a6-faa0-41b6-af86-050470de1341",
   "metadata": {
    "papermill": {
     "duration": 0.053086,
     "end_time": "2022-07-15T12:50:44.951298",
     "exception": false,
     "start_time": "2022-07-15T12:50:44.898212",
     "status": "completed"
    },
    "tags": []
   },
   "source": [
    "Setup training multiview set"
   ]
  },
  {
   "cell_type": "code",
   "execution_count": null,
   "id": "2c936c08-6030-4468-864e-7f5c02af30ce",
   "metadata": {
    "papermill": {
     "duration": 44.922023,
     "end_time": "2022-07-15T12:51:29.923000",
     "exception": false,
     "start_time": "2022-07-15T12:50:45.000977",
     "status": "completed"
    },
    "tags": []
   },
   "outputs": [],
   "source": [
    "batch_size = 3000\n",
    "remake = False\n",
    "dataset_name = \"rot_noisy\"\n",
    "\n",
    "multiview_dataset = rot_noisy_multiview_dataset(check_for_saved=True, noise_max=0, dataset_id=dataset_name, shuffle_view2 = True)\n",
    "\n",
    "multiview_loader = DataLoader(dataset=multiview_dataset, \n",
    "                         batch_size=batch_size, \n",
    "                         shuffle=False)\n",
    "\n",
    "multiview_test =  rot_noisy_multiview_dataset(check_for_saved=True, noise_max=0, is_testset=True, dataset_id=dataset_name, shuffle_view2=True, noisy_transform=None)\n",
    "\n",
    "multiview_test_loader = DataLoader(dataset=multiview_test, \n",
    "                         batch_size=1000, \n",
    "                         shuffle=False)"
   ]
  },
  {
   "cell_type": "markdown",
   "id": "3ba48b38-fda4-4457-8cd0-2a3859e2af90",
   "metadata": {
    "papermill": {
     "duration": 0.068514,
     "end_time": "2022-07-15T12:51:30.065644",
     "exception": false,
     "start_time": "2022-07-15T12:51:29.997130",
     "status": "completed"
    },
    "tags": []
   },
   "source": [
    " Visualize multiview set"
   ]
  },
  {
   "cell_type": "code",
   "execution_count": null,
   "id": "58c92f8e-fdf5-40c7-a4c0-6786a86bdf0c",
   "metadata": {},
   "outputs": [],
   "source": [
    "img_size = (1,28,28)\n",
    "vu.visualize_multiview_dataset(multiview_loader, img_size=img_size)\n",
    "vu.visualize_multiview_dataset(multiview_test_loader, img_size=img_size)\n"
   ]
  },
  {
   "cell_type": "markdown",
   "id": "13838533",
   "metadata": {},
   "source": [
    "## Train disentangled model"
   ]
  },
  {
   "cell_type": "code",
   "execution_count": null,
   "id": "c5fbf157",
   "metadata": {},
   "outputs": [],
   "source": [
    "disentangled_model = tu.train_model(\"mv_doe_conditional_recon\", multiview_loader, multiview_test_loader, device=torch.device(\"cuda:0\"), lr=0.0001, recon_dims=5,\n",
    "        num_epochs=20, latent_dim=10, linear_size = 1024, img_size=(1,28,28), architecture=\"CNN\",\n",
    "        show_progress=True, num_classes=10, show_subprogress=True, experiment_name=\"disentangle\", visualize_tsne=False)"
   ]
  },
  {
   "cell_type": "markdown",
   "id": "14a821df",
   "metadata": {},
   "source": [
    "## Look at Reconstructions"
   ]
  },
  {
   "cell_type": "code",
   "execution_count": null,
   "id": "41cd94a8",
   "metadata": {},
   "outputs": [],
   "source": [
    "vu.see_reconstructions(\"rotonly\", disentangled_model, multiview_test_loader, multiview=True, used_dataset=0)\n",
    "vu.see_reconstructions(\"noisy\", disentangled_model, multiview_test_loader, multiview=True, used_dataset=1)"
   ]
  },
  {
   "cell_type": "markdown",
   "id": "0e64c86a",
   "metadata": {},
   "source": [
    "# Dim Analysis"
   ]
  },
  {
   "cell_type": "code",
   "execution_count": null,
   "id": "a0973eff-c08f-427a-b4ad-21fb5c526b55",
   "metadata": {},
   "outputs": [],
   "source": [
    "\n",
    "batch, labels = next(iter(multiview_test_loader))\n",
    "rotbatch, normalbatch = batch\n",
    "\n",
    "rotbatch = rotbatch.cuda()\n",
    "normalbatch = normalbatch.cuda()\n",
    "\n",
    "disentangled_model.change_view(0)\n",
    "rot_encs = disentangled_model.get_whole_latent(rotbatch)\n",
    "\n",
    "num_recon_dims = 5\n",
    "fig, ax = plt.subplots(2,num_recon_dims, figsize=(20,6))\n",
    "\n",
    "for i in range(num_recon_dims*2):\n",
    "    rotrecon_dim = rot_encs[:, i].cpu().detach().numpy()\n",
    "    rotmin, rotmax = np.min(rotrecon_dim), np.max(rotrecon_dim)\n",
    "\n",
    "    for j in range(10):\n",
    "        rotones_enc = [e for idx, e in enumerate(rotrecon_dim) if labels[idx].item()==j]\n",
    "        ax[int(i/5)][i % 5].hist(rotones_enc, bins=30, label=j)\n",
    "\n",
    "    ax[int(i/5)][i % 5].set_title(\"Shared Dimension %d\" % i)\n",
    "    \n",
    "plt.xlabel(\"Value of DoE Dimension\")\n",
    "plt.ylabel(\"Frequency\")\n",
    "\n",
    "plt.legend(bbox_to_anchor=(1.05, 1), loc=2, borderaxespad=0.0)\n",
    "plt.show()\n"
   ]
  },
  {
   "cell_type": "code",
   "execution_count": null,
   "id": "3868b524",
   "metadata": {},
   "outputs": [],
   "source": [
    "batch, labels = next(iter(multiview_test_loader))\n",
    "rotbatch, normalbatch = batch\n",
    "\n",
    "rotbatch = rotbatch.cuda()\n",
    "normalbatch = normalbatch.cuda()\n",
    "\n",
    "disentangled_model.change_view(0)\n",
    "rot_encs = disentangled_model.get_whole_latent(rotbatch)\n",
    "\n",
    "num_recon_dims = 5\n",
    "fig, ax = plt.subplots(1,num_recon_dims, figsize=(20,4))\n",
    "\n",
    "for i in range(5):\n",
    "    rotrecon_dim = rot_encs[:, -i].cpu().detach().numpy()\n",
    "    rotmin, rotmax = np.min(rotrecon_dim), np.max(rotrecon_dim)\n",
    "\n",
    "    for j in range(5):\n",
    "        rotones_enc = [e for idx, e in enumerate(rotrecon_dim) if labels[idx].item()==j]\n",
    "        ax[i % 5].hist(rotones_enc, bins=30, label=j)\n",
    "\n",
    "    ax[i % 5].set_title(\"Exclusive Dimension %d\" % i)\n",
    "    \n",
    "plt.xlabel(\"Value of DoE Dimension\")\n",
    "plt.ylabel(\"Frequency\")\n",
    "\n",
    "plt.legend(bbox_to_anchor=(1.05, 1), loc=2, borderaxespad=0.0)\n",
    "plt.show()\n"
   ]
  },
  {
   "cell_type": "markdown",
   "id": "ed3fa535",
   "metadata": {},
   "source": [
    "# Independent Components"
   ]
  },
  {
   "cell_type": "code",
   "execution_count": null,
   "id": "ca22f9f6-c647-4c74-9186-05a3041f5778",
   "metadata": {},
   "outputs": [],
   "source": [
    "from sklearn.decomposition import fastica\n",
    "\n",
    "numSteps = 15\n",
    "numlatent = 5\n",
    "rs = 22\n",
    "\n",
    "batch, labels = next(iter(multiview_test_loader))\n",
    "rotbatch, normalbatch = batch\n",
    "\n",
    "rotbatch = rotbatch.cuda()\n",
    "normalbatch = normalbatch.cuda()\n",
    "\n",
    "relevantsamples = [43, 0, 2, 1, 11, 29, 25, 63, 38, 19]\n",
    "\n",
    "disentangled_model.change_view(0)\n",
    "normal_encs = disentangled_model.get_whole_latent(rotbatch)\n",
    "exclusive_dims = normal_encs[:, -numlatent:]\n",
    "\n",
    "disentangled_model.change_view(0)\n",
    "X = exclusive_dims.detach().cpu()\n",
    "K, W_inv, S, t = fastica(X, whiten=False, return_n_iter=True, random_state=rs)\n",
    "\n",
    "W_inv = torch.tensor(W_inv, requires_grad=False).double()\n",
    "W = torch.linalg.inv(W_inv)\n",
    "\n",
    "steps_list = np.linspace(-1,1, numSteps)\n",
    "\n",
    "fig, ax = plt.subplots(2,3, figsize=(20,10))\n",
    "rots = torch.zeros(numSteps * len(relevantsamples), 1, 28, 28)\n",
    "\n",
    "for i in range(numlatent):\n",
    "    for idx, imgidx in enumerate(relevantsamples):\n",
    "        start = disentangled_model.get_whole_latent(normalbatch[imgidx].reshape((1,1,28,28)))\n",
    "\n",
    "        for stepidx, stepsize in enumerate(steps_list):\n",
    "            newstep = start.clone()\n",
    "\n",
    "            # transform to IC space\n",
    "            newstep_ex = newstep[:, -numlatent:].double().cpu()\n",
    "            newstep_trans = W @ newstep_ex.T\n",
    "            \n",
    "            # take step on IC\n",
    "            newstep_trans[i] += stepsize\n",
    "            \n",
    "            # transform back to mixed space\n",
    "\n",
    "            newstep_ex = W_inv @ newstep_trans\n",
    "\n",
    "            newstep[:, -numlatent:] = newstep_ex.T\n",
    "\n",
    "            rotdec = disentangled_model.decode_modified_latent(newstep)\n",
    "\n",
    "            rots[stepidx + idx*numSteps, :] = rotdec[0]\n",
    "\n",
    "\n",
    "    grid = torchvision.utils.make_grid(rots, nrow=numSteps)\n",
    "\n",
    "    axrow = i // 3\n",
    "    axcol = i % 3\n",
    "\n",
    "    ax[axrow][axcol].imshow(grid.permute((1, 2, 0)))\n",
    "    ax[axrow][axcol].set_title(\"%d-th Independent Component\" % i)\n",
    "\n",
    "#ax[-1,-1].axis('off')\n",
    "plt.show()\n",
    "\n"
   ]
  }
 ],
 "metadata": {
  "kernelspec": {
   "display_name": "Python 3.8.10 64-bit",
   "language": "python",
   "name": "python3"
  },
  "language_info": {
   "codemirror_mode": {
    "name": "ipython",
    "version": 3
   },
   "file_extension": ".py",
   "mimetype": "text/x-python",
   "name": "python",
   "nbconvert_exporter": "python",
   "pygments_lexer": "ipython3",
   "version": "3.8.10"
  },
  "papermill": {
   "default_parameters": {},
   "duration": 2729.510668,
   "end_time": "2022-07-15T13:36:09.848938",
   "environment_variables": {},
   "exception": null,
   "input_path": "multiview_mi.ipynb",
   "output_path": "full_test.ipynb",
   "parameters": {},
   "start_time": "2022-07-15T12:50:40.338270",
   "version": "2.3.4"
  },
  "vscode": {
   "interpreter": {
    "hash": "31f2aee4e71d21fbe5cf8b01ff0e069b9275f58929596ceb00d14d90e3e16cd6"
   }
  }
 },
 "nbformat": 4,
 "nbformat_minor": 5
}
